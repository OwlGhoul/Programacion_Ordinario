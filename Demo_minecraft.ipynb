{
  "nbformat": 4,
  "nbformat_minor": 0,
  "metadata": {
    "colab": {
      "provenance": [],
      "authorship_tag": "ABX9TyPGQ3PwagO9jSlboii/kgow",
      "include_colab_link": true
    },
    "kernelspec": {
      "name": "python3",
      "display_name": "Python 3"
    },
    "language_info": {
      "name": "python"
    }
  },
  "cells": [
    {
      "cell_type": "markdown",
      "metadata": {
        "id": "view-in-github",
        "colab_type": "text"
      },
      "source": [
        "<a href=\"https://colab.research.google.com/github/OwlGhoul/Programacion_Ordinario/blob/main/Demo_minecraft.ipynb\" target=\"_parent\"><img src=\"https://colab.research.google.com/assets/colab-badge.svg\" alt=\"Open In Colab\"/></a>"
      ]
    },
    {
      "cell_type": "code",
      "execution_count": null,
      "metadata": {
        "id": "FYvx1DrZlDyM"
      },
      "outputs": [],
      "source": [
        "from ursina import *\n",
        "\n",
        "from ursina.prefabs.first_person_controller import FirstPersonController\n",
        "\n",
        "app = Ursina()\n",
        "\n",
        "class Voxel(Button):\n",
        "    def __init__(self, position=(0,0,0)):\n",
        "        super().__init__(\n",
        "        parent=scene,\n",
        "        position=position,\n",
        "        model='cube',\n",
        "        origin_y= 0.5,\n",
        "        texture  = \"grass\",\n",
        "        color = color.rgb(255,255,255),\n",
        "        highlight_color= color.lime\n",
        "    )\n",
        "\n",
        "    def input(self, key):\n",
        "        if self.hovered:\n",
        "            if key =='left mouse down':\n",
        "              voxel= Voxel(position = self.position + mouse.normal)\n",
        "            if key =='right mouse down':\n",
        "              destroy(self)\n",
        "chunkSize=16\n",
        "for z in range(chunkSize):\n",
        "    for x in range(chunkSize):\n",
        "        voxel = Voxel(position=(x,0,z))\n",
        "player = FirstPersonController()\n",
        "app.run() "
      ]
    }
  ]
}