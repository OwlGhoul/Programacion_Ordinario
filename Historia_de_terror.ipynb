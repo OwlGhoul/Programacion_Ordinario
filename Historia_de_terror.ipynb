{
  "nbformat": 4,
  "nbformat_minor": 0,
  "metadata": {
    "colab": {
      "provenance": [],
      "authorship_tag": "ABX9TyOe9+hQsI50Wg8XedPFqk+I",
      "include_colab_link": true
    },
    "kernelspec": {
      "name": "python3",
      "display_name": "Python 3"
    },
    "language_info": {
      "name": "python"
    }
  },
  "cells": [
    {
      "cell_type": "markdown",
      "metadata": {
        "id": "view-in-github",
        "colab_type": "text"
      },
      "source": [
        "<a href=\"https://colab.research.google.com/github/OwlGhoul/Programacion_Ordinario/blob/main/Historia_de_terror.ipynb\" target=\"_parent\"><img src=\"https://colab.research.google.com/assets/colab-badge.svg\" alt=\"Open In Colab\"/></a>"
      ]
    },
    {
      "cell_type": "code",
      "execution_count": 3,
      "metadata": {
        "colab": {
          "base_uri": "https://localhost:8080/"
        },
        "id": "jCwVj7PPojIw",
        "outputId": "6437a508-149e-43fd-b1ec-6b77e19b0059"
      },
      "outputs": [
        {
          "output_type": "stream",
          "name": "stdout",
          "text": [
            "Bienvenido a la esta historia de terror\n",
            "Despiertas en una casa abandonada y sientes que algo extraño está pasando\n",
            "¿Qué quieres hacer?\n",
            "1. Salir corriendo de la casa \n",
            "2. Explorar la casa1\n",
            "Te das cuenta de que las puertas y ventanas están cerradas y no puedes salir\n",
            "De repente, escuchas un ruido detrás de ti\n",
            "¿Qué quieres hacer?\n",
            "1. Gritar \n",
            "2. Voltear para ver qué es2\n",
            "Te volteas y ves una figura oscura que se mueve rápidamente hacia ti\n",
            "Te das cuenta de que nunca volverás a salir de esta casa\n"
          ]
        }
      ],
      "source": [
        "print(\"Bienvenido a la esta historia de terror\")\n",
        "print(\"Despiertas en una casa abandonada y sientes que algo extraño está pasando\")\n",
        "print(\"¿Qué quieres hacer?\")\n",
        "\n",
        "accion = input(\"1. Salir corriendo de la casa \\n2. Explorar la casa\")\n",
        "\n",
        "if accion == \"1\":\n",
        "    print(\"Te das cuenta de que las puertas y ventanas están cerradas y no puedes salir\")\n",
        "    print(\"De repente, escuchas un ruido detrás de ti\")\n",
        "    print(\"¿Qué quieres hacer?\")\n",
        "    accion2 = input(\"1. Gritar \\n2. Voltear para ver qué es\")\n",
        "    if accion2 == \"1\":\n",
        "        print(\"Tu grito es respondido por un sonido terrorífico que parece venir de todas partes\")\n",
        "        print(\"Te das cuenta de que nunca volverás a salir de esta casa\")\n",
        "    elif accion2 == \"2\":\n",
        "        print(\"Te volteas y ves una figura oscura que se mueve rápidamente hacia ti\")\n",
        "        print(\"Te das cuenta de que nunca volverás a salir de esta casa\")\n",
        "elif accion == \"2\":\n",
        "    print(\"Comienzas a explorar la casa y descubres que hay una escalera que lleva a un sótano\")\n",
        "    print(\"¿Quieres entrar en el sótano?\")\n",
        "    accion2 = input(\"1. Sí \\n2. No\")\n",
        "    if accion2 == \"1\":\n",
        "        print(\"Bajas las escaleras y ves una puerta cerrada con llave\")\n",
        "        print(\"De repente, escuchas un sonido detrás de ti\")\n",
        "        print(\"¿Qué quieres hacer?\")\n",
        "        accion3 = input(\"1. Abrir la puerta \\n2. Esconderte\")\n",
        "        if accion3 == \"1\":\n",
        "            print(\"Abres la puerta y descubres una habitación llena de herramientas de tortura\")\n",
        "            print(\"Te das cuenta de que nunca volverás a salir de esta casa\")\n",
        "        elif accion3 == \"2\":\n",
        "            print(\"Te escondes detrás de unas cajas y esperas\")\n",
        "            print(\"De repente, escuchas un sonido que se acerca a ti\")\n",
        "            print(\"La figura oscura te encuentra y te arrastra hacia la oscuridad\")\n"
      ]
    }
  ]
}